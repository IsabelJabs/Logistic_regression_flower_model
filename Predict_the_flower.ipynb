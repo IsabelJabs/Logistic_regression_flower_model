{
 "cells": [
  {
   "cell_type": "markdown",
   "id": "desperate-metropolitan",
   "metadata": {},
   "source": [
    "1. Import the dataset iris_dirty.csv from here into a Pandas dataframe. Check the Pandas documentation of read_csv() and use the column names sepal_length, sepal_width, petal_length, petal_width and class when you read in the data."
   ]
  },
  {
   "cell_type": "code",
   "execution_count": 1,
   "id": "permanent-concentrate",
   "metadata": {},
   "outputs": [],
   "source": [
    "import pandas as pd"
   ]
  },
  {
   "cell_type": "code",
   "execution_count": 2,
   "id": "interpreted-bishop",
   "metadata": {},
   "outputs": [],
   "source": [
    "data = pd.read_csv('iris_dirty.csv',names= ['sepal_length', 'sepal_width', 'petal_length', 'petal_width','class'])"
   ]
  },
  {
   "cell_type": "markdown",
   "id": "ready-commitment",
   "metadata": {},
   "source": [
    "2. Explore the data with the known Pandas functions head(), info(), describe(), count(), value_counts() (for all columns). Watch for missing values, duplicates, spelling errors, non-uniform units, columns with datatypes they shouldn't have etc."
   ]
  },
  {
   "cell_type": "code",
   "execution_count": 3,
   "id": "aging-sessions",
   "metadata": {},
   "outputs": [
    {
     "data": {
      "text/html": [
       "<div>\n",
       "<style scoped>\n",
       "    .dataframe tbody tr th:only-of-type {\n",
       "        vertical-align: middle;\n",
       "    }\n",
       "\n",
       "    .dataframe tbody tr th {\n",
       "        vertical-align: top;\n",
       "    }\n",
       "\n",
       "    .dataframe thead th {\n",
       "        text-align: right;\n",
       "    }\n",
       "</style>\n",
       "<table border=\"1\" class=\"dataframe\">\n",
       "  <thead>\n",
       "    <tr style=\"text-align: right;\">\n",
       "      <th></th>\n",
       "      <th>sepal_length</th>\n",
       "      <th>sepal_width</th>\n",
       "      <th>petal_length</th>\n",
       "      <th>petal_width</th>\n",
       "      <th>class</th>\n",
       "    </tr>\n",
       "  </thead>\n",
       "  <tbody>\n",
       "    <tr>\n",
       "      <th>0</th>\n",
       "      <td>5.1</td>\n",
       "      <td>3.5</td>\n",
       "      <td>1.4</td>\n",
       "      <td>2 mm</td>\n",
       "      <td>Iris-setosa</td>\n",
       "    </tr>\n",
       "    <tr>\n",
       "      <th>1</th>\n",
       "      <td>4.9</td>\n",
       "      <td>3.0</td>\n",
       "      <td>1.4</td>\n",
       "      <td>2 mm</td>\n",
       "      <td>Iris-setosa</td>\n",
       "    </tr>\n",
       "    <tr>\n",
       "      <th>2</th>\n",
       "      <td>4.7</td>\n",
       "      <td>3.2</td>\n",
       "      <td>1.3</td>\n",
       "      <td>2 mm</td>\n",
       "      <td>Iris-setosa</td>\n",
       "    </tr>\n",
       "    <tr>\n",
       "      <th>3</th>\n",
       "      <td>4.6</td>\n",
       "      <td>3.1</td>\n",
       "      <td>1.5</td>\n",
       "      <td>2 mm</td>\n",
       "      <td>Iris-setosa</td>\n",
       "    </tr>\n",
       "    <tr>\n",
       "      <th>4</th>\n",
       "      <td>5.0</td>\n",
       "      <td>3.6</td>\n",
       "      <td>1.4</td>\n",
       "      <td>2 mm</td>\n",
       "      <td>Iris-setosa</td>\n",
       "    </tr>\n",
       "  </tbody>\n",
       "</table>\n",
       "</div>"
      ],
      "text/plain": [
       "   sepal_length  sepal_width  petal_length petal_width        class\n",
       "0           5.1          3.5           1.4        2 mm  Iris-setosa\n",
       "1           4.9          3.0           1.4        2 mm  Iris-setosa\n",
       "2           4.7          3.2           1.3        2 mm  Iris-setosa\n",
       "3           4.6          3.1           1.5        2 mm  Iris-setosa\n",
       "4           5.0          3.6           1.4        2 mm  Iris-setosa"
      ]
     },
     "execution_count": 3,
     "metadata": {},
     "output_type": "execute_result"
    }
   ],
   "source": [
    "data.head()"
   ]
  },
  {
   "cell_type": "code",
   "execution_count": 4,
   "id": "nuclear-holiday",
   "metadata": {},
   "outputs": [
    {
     "name": "stdout",
     "output_type": "stream",
     "text": [
      "<class 'pandas.core.frame.DataFrame'>\n",
      "RangeIndex: 151 entries, 0 to 150\n",
      "Data columns (total 5 columns):\n",
      " #   Column        Non-Null Count  Dtype  \n",
      "---  ------        --------------  -----  \n",
      " 0   sepal_length  151 non-null    float64\n",
      " 1   sepal_width   150 non-null    float64\n",
      " 2   petal_length  151 non-null    float64\n",
      " 3   petal_width   151 non-null    object \n",
      " 4   class         151 non-null    object \n",
      "dtypes: float64(3), object(2)\n",
      "memory usage: 6.0+ KB\n"
     ]
    }
   ],
   "source": [
    "data.info()"
   ]
  },
  {
   "cell_type": "code",
   "execution_count": 5,
   "id": "talented-force",
   "metadata": {},
   "outputs": [
    {
     "data": {
      "text/html": [
       "<div>\n",
       "<style scoped>\n",
       "    .dataframe tbody tr th:only-of-type {\n",
       "        vertical-align: middle;\n",
       "    }\n",
       "\n",
       "    .dataframe tbody tr th {\n",
       "        vertical-align: top;\n",
       "    }\n",
       "\n",
       "    .dataframe thead th {\n",
       "        text-align: right;\n",
       "    }\n",
       "</style>\n",
       "<table border=\"1\" class=\"dataframe\">\n",
       "  <thead>\n",
       "    <tr style=\"text-align: right;\">\n",
       "      <th></th>\n",
       "      <th>sepal_length</th>\n",
       "      <th>sepal_width</th>\n",
       "      <th>petal_length</th>\n",
       "    </tr>\n",
       "  </thead>\n",
       "  <tbody>\n",
       "    <tr>\n",
       "      <th>count</th>\n",
       "      <td>151.000000</td>\n",
       "      <td>150.000000</td>\n",
       "      <td>151.000000</td>\n",
       "    </tr>\n",
       "    <tr>\n",
       "      <th>mean</th>\n",
       "      <td>6.196689</td>\n",
       "      <td>3.057333</td>\n",
       "      <td>3.764901</td>\n",
       "    </tr>\n",
       "    <tr>\n",
       "      <th>std</th>\n",
       "      <td>4.324325</td>\n",
       "      <td>0.432776</td>\n",
       "      <td>1.760197</td>\n",
       "    </tr>\n",
       "    <tr>\n",
       "      <th>min</th>\n",
       "      <td>4.300000</td>\n",
       "      <td>2.000000</td>\n",
       "      <td>1.000000</td>\n",
       "    </tr>\n",
       "    <tr>\n",
       "      <th>25%</th>\n",
       "      <td>5.100000</td>\n",
       "      <td>2.800000</td>\n",
       "      <td>1.600000</td>\n",
       "    </tr>\n",
       "    <tr>\n",
       "      <th>50%</th>\n",
       "      <td>5.800000</td>\n",
       "      <td>3.000000</td>\n",
       "      <td>4.400000</td>\n",
       "    </tr>\n",
       "    <tr>\n",
       "      <th>75%</th>\n",
       "      <td>6.400000</td>\n",
       "      <td>3.300000</td>\n",
       "      <td>5.100000</td>\n",
       "    </tr>\n",
       "    <tr>\n",
       "      <th>max</th>\n",
       "      <td>58.000000</td>\n",
       "      <td>4.400000</td>\n",
       "      <td>6.900000</td>\n",
       "    </tr>\n",
       "  </tbody>\n",
       "</table>\n",
       "</div>"
      ],
      "text/plain": [
       "       sepal_length  sepal_width  petal_length\n",
       "count    151.000000   150.000000    151.000000\n",
       "mean       6.196689     3.057333      3.764901\n",
       "std        4.324325     0.432776      1.760197\n",
       "min        4.300000     2.000000      1.000000\n",
       "25%        5.100000     2.800000      1.600000\n",
       "50%        5.800000     3.000000      4.400000\n",
       "75%        6.400000     3.300000      5.100000\n",
       "max       58.000000     4.400000      6.900000"
      ]
     },
     "execution_count": 5,
     "metadata": {},
     "output_type": "execute_result"
    }
   ],
   "source": [
    "data.describe()"
   ]
  },
  {
   "cell_type": "code",
   "execution_count": 6,
   "id": "nonprofit-armstrong",
   "metadata": {},
   "outputs": [
    {
     "data": {
      "text/plain": [
       "sepal_length    151\n",
       "sepal_width     150\n",
       "petal_length    151\n",
       "petal_width     151\n",
       "class           151\n",
       "dtype: int64"
      ]
     },
     "execution_count": 6,
     "metadata": {},
     "output_type": "execute_result"
    }
   ],
   "source": [
    "data.count()"
   ]
  },
  {
   "cell_type": "markdown",
   "id": "authorized-active",
   "metadata": {},
   "source": [
    "* sepal_width has a Null "
   ]
  },
  {
   "cell_type": "code",
   "execution_count": 7,
   "id": "viral-intake",
   "metadata": {},
   "outputs": [
    {
     "data": {
      "text/plain": [
       "sepal_length  sepal_width  petal_length  petal_width  class          \n",
       "4.9           3.1          1.5           1 mm         Iris-setosa        3\n",
       "7.0           3.2          4.7           14 mm        Iris-versicolor    2\n",
       "6.3           2.9          5.6           18 mm        Iris-virginica     1\n",
       "6.2           3.4          5.4           23 mm        Iris-virginica     1\n",
       "6.3           2.3          4.4           13 mm        Iris-versicolor    1\n",
       "                                                                        ..\n",
       "5.5           2.3          4.0           13 mm        Iris-versicolor    1\n",
       "              2.4          3.7           10 mm        Iris-versicolor    1\n",
       "                           3.8           11 mm        Iris-versicolor    1\n",
       "              2.5          4.0           13 mm        Iris-versicolor    1\n",
       "58.0          2.7          5.1           19 mm        Iris-virginica     1\n",
       "Length: 147, dtype: int64"
      ]
     },
     "execution_count": 7,
     "metadata": {},
     "output_type": "execute_result"
    }
   ],
   "source": [
    "data.value_counts()"
   ]
  },
  {
   "cell_type": "code",
   "execution_count": 8,
   "id": "boring-exposure",
   "metadata": {},
   "outputs": [
    {
     "data": {
      "text/plain": [
       "array(['Iris-setosa', 'Iris-setsoa', 'Iris-versicolor', 'Iris-virginica'],\n",
       "      dtype=object)"
      ]
     },
     "execution_count": 8,
     "metadata": {},
     "output_type": "execute_result"
    }
   ],
   "source": [
    "data['class'].unique()"
   ]
  },
  {
   "cell_type": "markdown",
   "id": "current-cassette",
   "metadata": {},
   "source": [
    "* Typo in class Iris-setsoa is Iris-setosa"
   ]
  },
  {
   "cell_type": "code",
   "execution_count": 9,
   "id": "plain-belle",
   "metadata": {},
   "outputs": [
    {
     "data": {
      "text/plain": [
       "array([ 5.1,  4.9,  4.7,  4.6,  5. ,  5.4,  4.4,  4.8,  4.3,  5.8,  5.7,\n",
       "        5.2,  5.5,  4.5,  5.3,  7. ,  6.4,  6.9,  6.5,  6.3,  6.6,  5.9,\n",
       "        6. ,  6.1,  5.6,  6.7,  6.2,  6.8,  7.1,  7.6,  7.3,  7.2,  7.7,\n",
       "        7.4,  7.9, 58. ])"
      ]
     },
     "execution_count": 9,
     "metadata": {},
     "output_type": "execute_result"
    }
   ],
   "source": [
    "data['sepal_length'].unique()"
   ]
  },
  {
   "cell_type": "code",
   "execution_count": 10,
   "id": "million-soundtrack",
   "metadata": {},
   "outputs": [
    {
     "data": {
      "text/plain": [
       "5.0     10\n",
       "5.1      9\n",
       "6.3      9\n",
       "6.7      8\n",
       "5.7      8\n",
       "5.5      7\n",
       "6.4      7\n",
       "5.6      6\n",
       "5.4      6\n",
       "4.9      6\n",
       "5.8      6\n",
       "6.1      6\n",
       "6.0      6\n",
       "4.8      5\n",
       "6.5      5\n",
       "5.2      4\n",
       "7.7      4\n",
       "6.9      4\n",
       "4.6      4\n",
       "6.2      4\n",
       "6.8      3\n",
       "5.9      3\n",
       "4.4      3\n",
       "7.2      3\n",
       "7.0      2\n",
       "4.7      2\n",
       "6.6      2\n",
       "7.3      1\n",
       "58.0     1\n",
       "7.9      1\n",
       "7.6      1\n",
       "7.1      1\n",
       "7.4      1\n",
       "4.5      1\n",
       "5.3      1\n",
       "4.3      1\n",
       "Name: sepal_length, dtype: int64"
      ]
     },
     "execution_count": 10,
     "metadata": {},
     "output_type": "execute_result"
    }
   ],
   "source": [
    "data['sepal_length'].value_counts()"
   ]
  },
  {
   "cell_type": "markdown",
   "id": "greek-quick",
   "metadata": {},
   "source": [
    "* outlier 58"
   ]
  },
  {
   "cell_type": "code",
   "execution_count": 11,
   "id": "collect-italy",
   "metadata": {},
   "outputs": [
    {
     "data": {
      "text/plain": [
       "array([3.5, 3. , 3.2, 3.1, 3.6, 3.9, 3.4, 2.9, 3.7, 4. , 4.4, 3.8, 3.3,\n",
       "       4.1, 4.2, 2.3, 2.8, 2.4, 2.7, 2. , 2.2, 2.5, 2.6, nan])"
      ]
     },
     "execution_count": 11,
     "metadata": {},
     "output_type": "execute_result"
    }
   ],
   "source": [
    "data['sepal_width'].unique()"
   ]
  },
  {
   "cell_type": "code",
   "execution_count": 12,
   "id": "electoral-vinyl",
   "metadata": {},
   "outputs": [
    {
     "data": {
      "text/plain": [
       "array(['2 mm', '4 mm', '3 mm', '1 mm', '5 mm', '6 mm', '14 mm', '15 mm',\n",
       "       '13 mm', '16 mm', '10 mm', '11 mm', '18 mm', '12 mm', '17 mm',\n",
       "       '25 mm', '19 mm', '21 mm', '22 mm', '20 mm', '24 mm', '23 mm'],\n",
       "      dtype=object)"
      ]
     },
     "execution_count": 12,
     "metadata": {},
     "output_type": "execute_result"
    }
   ],
   "source": [
    "data['petal_width'].unique()"
   ]
  },
  {
   "cell_type": "markdown",
   "id": "polyphonic-subdivision",
   "metadata": {},
   "source": [
    "* the unit is always mm, so can be deleted and the values turned into integer"
   ]
  },
  {
   "cell_type": "markdown",
   "id": "talented-extraction",
   "metadata": {},
   "source": [
    "3. Substitute missing values with the column mean. Check/remove duplicates. Correct possible spelling errors."
   ]
  },
  {
   "cell_type": "code",
   "execution_count": 13,
   "id": "cubic-perth",
   "metadata": {},
   "outputs": [
    {
     "data": {
      "text/plain": [
       "sepal_length    148\n",
       "sepal_width     147\n",
       "petal_length    148\n",
       "petal_width     148\n",
       "class           148\n",
       "dtype: int64"
      ]
     },
     "execution_count": 13,
     "metadata": {},
     "output_type": "execute_result"
    }
   ],
   "source": [
    "#remove duplicates\n",
    "data = data.drop_duplicates()\n",
    "data.count()"
   ]
  },
  {
   "cell_type": "code",
   "execution_count": 14,
   "id": "embedded-guidance",
   "metadata": {},
   "outputs": [],
   "source": [
    "#substitue missing values with column mean\n",
    "data= data.fillna(data.mean())"
   ]
  },
  {
   "cell_type": "code",
   "execution_count": 15,
   "id": "behavioral-adapter",
   "metadata": {},
   "outputs": [
    {
     "data": {
      "text/plain": [
       "array([3.5       , 3.        , 3.2       , 3.1       , 3.6       ,\n",
       "       3.9       , 3.4       , 2.9       , 3.7       , 4.        ,\n",
       "       4.4       , 3.8       , 3.3       , 4.1       , 4.2       ,\n",
       "       2.3       , 2.8       , 2.4       , 2.7       , 2.        ,\n",
       "       2.2       , 2.5       , 2.6       , 3.05578231])"
      ]
     },
     "execution_count": 15,
     "metadata": {},
     "output_type": "execute_result"
    }
   ],
   "source": [
    "data['sepal_width'].unique()"
   ]
  },
  {
   "cell_type": "code",
   "execution_count": 16,
   "id": "hindu-cycling",
   "metadata": {},
   "outputs": [
    {
     "data": {
      "text/plain": [
       "sepal_length    0\n",
       "sepal_width     0\n",
       "petal_length    0\n",
       "petal_width     0\n",
       "class           0\n",
       "dtype: int64"
      ]
     },
     "execution_count": 16,
     "metadata": {},
     "output_type": "execute_result"
    }
   ],
   "source": [
    "data.isna().sum()"
   ]
  },
  {
   "cell_type": "code",
   "execution_count": 17,
   "id": "absent-least",
   "metadata": {},
   "outputs": [],
   "source": [
    "#Correct possible spelling errors\n",
    "def flower_spell(x):\n",
    "    if x in ['Iris-setsoa']:\n",
    "        return 'Iris-setosa'\n",
    "    else:\n",
    "        return x"
   ]
  },
  {
   "cell_type": "code",
   "execution_count": 18,
   "id": "empirical-burning",
   "metadata": {},
   "outputs": [],
   "source": [
    "data['class']=data['class'].apply(flower_spell)"
   ]
  },
  {
   "cell_type": "code",
   "execution_count": 19,
   "id": "guided-cheat",
   "metadata": {},
   "outputs": [
    {
     "data": {
      "text/plain": [
       "array(['Iris-setosa', 'Iris-versicolor', 'Iris-virginica'], dtype=object)"
      ]
     },
     "execution_count": 19,
     "metadata": {},
     "output_type": "execute_result"
    }
   ],
   "source": [
    "data['class'].unique()"
   ]
  },
  {
   "cell_type": "markdown",
   "id": "compound-correspondence",
   "metadata": {},
   "source": [
    "4. Bring all columns to centimeter length. Before, transform any column to numeric if necessary."
   ]
  },
  {
   "cell_type": "code",
   "execution_count": 20,
   "id": "veterinary-andrew",
   "metadata": {},
   "outputs": [],
   "source": [
    "#first delete ' mm'\n",
    "data['petal_width'] = data['petal_width'].map(lambda x: x.rstrip(' mm'))"
   ]
  },
  {
   "cell_type": "code",
   "execution_count": 21,
   "id": "complex-desert",
   "metadata": {},
   "outputs": [],
   "source": [
    "#now transform to numeric\n",
    "data['petal_width']=pd.to_numeric(data['petal_width'])"
   ]
  },
  {
   "cell_type": "code",
   "execution_count": 22,
   "id": "heated-finnish",
   "metadata": {},
   "outputs": [],
   "source": [
    "#all columns to centimeter length\n",
    "data['petal_width']=(data['petal_width'])/10"
   ]
  },
  {
   "cell_type": "code",
   "execution_count": 23,
   "id": "generous-sharp",
   "metadata": {},
   "outputs": [
    {
     "data": {
      "text/plain": [
       "array([0.2, 0.4, 0.3, 0.1, 0.5, 0.6, 1.4, 1.5, 1.3, 1.6, 1. , 1.1, 1.8,\n",
       "       1.2, 1.7, 2.5, 1.9, 2.1, 2.2, 2. , 2.4, 2.3])"
      ]
     },
     "execution_count": 23,
     "metadata": {},
     "output_type": "execute_result"
    }
   ],
   "source": [
    "data['petal_width'].unique()"
   ]
  },
  {
   "cell_type": "markdown",
   "id": "experimental-leisure",
   "metadata": {},
   "source": [
    "4. Check for outliers with .describe() or means of plotting. Think about the appropriate way to correct for possible outliers and perform that correction."
   ]
  },
  {
   "cell_type": "code",
   "execution_count": 24,
   "id": "universal-explorer",
   "metadata": {},
   "outputs": [
    {
     "data": {
      "text/html": [
       "<div>\n",
       "<style scoped>\n",
       "    .dataframe tbody tr th:only-of-type {\n",
       "        vertical-align: middle;\n",
       "    }\n",
       "\n",
       "    .dataframe tbody tr th {\n",
       "        vertical-align: top;\n",
       "    }\n",
       "\n",
       "    .dataframe thead th {\n",
       "        text-align: right;\n",
       "    }\n",
       "</style>\n",
       "<table border=\"1\" class=\"dataframe\">\n",
       "  <thead>\n",
       "    <tr style=\"text-align: right;\">\n",
       "      <th></th>\n",
       "      <th>sepal_length</th>\n",
       "      <th>sepal_width</th>\n",
       "      <th>petal_length</th>\n",
       "      <th>petal_width</th>\n",
       "    </tr>\n",
       "  </thead>\n",
       "  <tbody>\n",
       "    <tr>\n",
       "      <th>count</th>\n",
       "      <td>148.000000</td>\n",
       "      <td>148.000000</td>\n",
       "      <td>148.000000</td>\n",
       "      <td>148.000000</td>\n",
       "    </tr>\n",
       "    <tr>\n",
       "      <th>mean</th>\n",
       "      <td>6.208784</td>\n",
       "      <td>3.055782</td>\n",
       "      <td>3.789189</td>\n",
       "      <td>1.213514</td>\n",
       "    </tr>\n",
       "    <tr>\n",
       "      <th>std</th>\n",
       "      <td>4.365089</td>\n",
       "      <td>0.435520</td>\n",
       "      <td>1.756470</td>\n",
       "      <td>0.757426</td>\n",
       "    </tr>\n",
       "    <tr>\n",
       "      <th>min</th>\n",
       "      <td>4.300000</td>\n",
       "      <td>2.000000</td>\n",
       "      <td>1.000000</td>\n",
       "      <td>0.100000</td>\n",
       "    </tr>\n",
       "    <tr>\n",
       "      <th>25%</th>\n",
       "      <td>5.100000</td>\n",
       "      <td>2.800000</td>\n",
       "      <td>1.600000</td>\n",
       "      <td>0.300000</td>\n",
       "    </tr>\n",
       "    <tr>\n",
       "      <th>50%</th>\n",
       "      <td>5.800000</td>\n",
       "      <td>3.000000</td>\n",
       "      <td>4.400000</td>\n",
       "      <td>1.300000</td>\n",
       "    </tr>\n",
       "    <tr>\n",
       "      <th>75%</th>\n",
       "      <td>6.400000</td>\n",
       "      <td>3.300000</td>\n",
       "      <td>5.100000</td>\n",
       "      <td>1.800000</td>\n",
       "    </tr>\n",
       "    <tr>\n",
       "      <th>max</th>\n",
       "      <td>58.000000</td>\n",
       "      <td>4.400000</td>\n",
       "      <td>6.900000</td>\n",
       "      <td>2.500000</td>\n",
       "    </tr>\n",
       "  </tbody>\n",
       "</table>\n",
       "</div>"
      ],
      "text/plain": [
       "       sepal_length  sepal_width  petal_length  petal_width\n",
       "count    148.000000   148.000000    148.000000   148.000000\n",
       "mean       6.208784     3.055782      3.789189     1.213514\n",
       "std        4.365089     0.435520      1.756470     0.757426\n",
       "min        4.300000     2.000000      1.000000     0.100000\n",
       "25%        5.100000     2.800000      1.600000     0.300000\n",
       "50%        5.800000     3.000000      4.400000     1.300000\n",
       "75%        6.400000     3.300000      5.100000     1.800000\n",
       "max       58.000000     4.400000      6.900000     2.500000"
      ]
     },
     "execution_count": 24,
     "metadata": {},
     "output_type": "execute_result"
    }
   ],
   "source": [
    "data.describe()"
   ]
  },
  {
   "cell_type": "markdown",
   "id": "weighted-armstrong",
   "metadata": {},
   "source": [
    "* the outlier is in sepal length. It can be assumed that it was a typo and is supposed to be 5.8cm and not 58cm."
   ]
  },
  {
   "cell_type": "code",
   "execution_count": 25,
   "id": "russian-buying",
   "metadata": {},
   "outputs": [],
   "source": [
    "import matplotlib.pyplot as plt\n",
    "import seaborn as sns"
   ]
  },
  {
   "cell_type": "code",
   "execution_count": 26,
   "id": "front-contact",
   "metadata": {},
   "outputs": [
    {
     "data": {
      "text/plain": [
       "<seaborn.axisgrid.FacetGrid at 0x7fec68b32d30>"
      ]
     },
     "execution_count": 26,
     "metadata": {},
     "output_type": "execute_result"
    },
    {
     "data": {
      "image/png": "[encoded data removed]",
      "text/plain": [
       "<Figure size 360x360 with 1 Axes>"
      ]
     },
     "metadata": {
      "needs_background": "light"
     },
     "output_type": "display_data"
    }
   ],
   "source": [
    "sns.displot(data['sepal_length'])"
   ]
  },
  {
   "cell_type": "code",
   "execution_count": 27,
   "id": "falling-creature",
   "metadata": {},
   "outputs": [],
   "source": [
    "#correcting the outlier\n",
    "def outlier_corr(x):\n",
    "    if x in [58]:\n",
    "        return 5.8\n",
    "    else:\n",
    "        return x"
   ]
  },
  {
   "cell_type": "code",
   "execution_count": 28,
   "id": "tested-combining",
   "metadata": {},
   "outputs": [],
   "source": [
    "data['sepal_length']=data['sepal_length'].apply(outlier_corr)"
   ]
  },
  {
   "cell_type": "markdown",
   "id": "intimate-removal",
   "metadata": {},
   "source": [
    "6. Plot a correlation matrix with a heatmap between the numeric features."
   ]
  },
  {
   "cell_type": "code",
   "execution_count": 29,
   "id": "prompt-organic",
   "metadata": {},
   "outputs": [],
   "source": [
    "corr_matrix = data.corr()"
   ]
  },
  {
   "cell_type": "code",
   "execution_count": 30,
   "id": "tracked-waterproof",
   "metadata": {},
   "outputs": [
    {
     "data": {
      "text/plain": [
       "pandas.core.frame.DataFrame"
      ]
     },
     "execution_count": 30,
     "metadata": {},
     "output_type": "execute_result"
    }
   ],
   "source": [
    "type(corr_matrix)"
   ]
  },
  {
   "cell_type": "code",
   "execution_count": 31,
   "id": "accessible-chaos",
   "metadata": {},
   "outputs": [
    {
     "data": {
      "text/plain": [
       "<AxesSubplot:>"
      ]
     },
     "execution_count": 31,
     "metadata": {},
     "output_type": "execute_result"
    },
    {
     "data": {
      "image/png": "[encoded data removed]",
      "text/plain": [
       "<Figure size 432x288 with 2 Axes>"
      ]
     },
     "metadata": {
      "needs_background": "light"
     },
     "output_type": "display_data"
    }
   ],
   "source": [
    "sns.heatmap(corr_matrix,\n",
    "            cmap='seismic',\n",
    "            center=0,\n",
    "            annot=True)"
   ]
  },
  {
   "cell_type": "markdown",
   "id": "rubber-figure",
   "metadata": {},
   "source": [
    " 7. Model the relationship between our features (the four numeric flower metrics) and the label (class) with Logistic Regression using LogisticRegression() from the sklearn.linear_model module. For the purpose of model validation, use the known train-test-split method with a size parameter of 0.3. Calculate the predicted labels, the accuracy score of y_test and y_predicted and plot a confusion matrix of the two."
   ]
  },
  {
   "cell_type": "code",
   "execution_count": 32,
   "id": "medium-zoning",
   "metadata": {},
   "outputs": [],
   "source": [
    "#class sklearn.linear_model.LinearRegression(*, fit_intercept=True, normalize=False, copy_X=True, n_jobs=None, positive=False)[source]¶"
   ]
  },
  {
   "cell_type": "code",
   "execution_count": 33,
   "id": "cordless-newcastle",
   "metadata": {},
   "outputs": [],
   "source": [
    "import numpy as np\n",
    "from sklearn.linear_model import LogisticRegression"
   ]
  },
  {
   "cell_type": "code",
   "execution_count": 34,
   "id": "alone-flood",
   "metadata": {},
   "outputs": [],
   "source": [
    "X=data.select_dtypes(include =np.number)"
   ]
  },
  {
   "cell_type": "code",
   "execution_count": 35,
   "id": "third-reservoir",
   "metadata": {},
   "outputs": [],
   "source": [
    "y=data['class']"
   ]
  },
  {
   "cell_type": "code",
   "execution_count": 36,
   "id": "after-examination",
   "metadata": {},
   "outputs": [],
   "source": [
    "from sklearn.model_selection import train_test_split"
   ]
  },
  {
   "cell_type": "code",
   "execution_count": 37,
   "id": "exempt-cruise",
   "metadata": {},
   "outputs": [],
   "source": [
    "X_train,X_test,y_train,y_test=train_test_split(X,y,test_size=0.3,random_state=0)"
   ]
  },
  {
   "cell_type": "code",
   "execution_count": 38,
   "id": "adapted-processing",
   "metadata": {},
   "outputs": [],
   "source": [
    "# create an (untrained) model \"instance\"\n",
    "logreg = LogisticRegression(random_state=0, solver='lbfgs',max_iter=400,\n",
    "                  multi_class='ovr')\n",
    "\n",
    "# train the model\n",
    "logreg.fit(X_train,y_train)\n",
    "\n",
    "#predict target data from test features , that the model has never seen\n",
    "y_pred=logreg.predict(X_test)"
   ]
  },
  {
   "cell_type": "code",
   "execution_count": 39,
   "id": "elegant-garlic",
   "metadata": {},
   "outputs": [],
   "source": [
    "from sklearn.metrics import accuracy_score \n",
    "predictions = logreg.predict(X_test)"
   ]
  },
  {
   "cell_type": "code",
   "execution_count": 40,
   "id": "divided-litigation",
   "metadata": {},
   "outputs": [
    {
     "data": {
      "text/plain": [
       "array(['Iris-setosa', 'Iris-setosa', 'Iris-setosa', 'Iris-virginica',\n",
       "       'Iris-setosa', 'Iris-setosa', 'Iris-setosa', 'Iris-virginica',\n",
       "       'Iris-virginica', 'Iris-versicolor', 'Iris-versicolor',\n",
       "       'Iris-setosa', 'Iris-virginica', 'Iris-virginica',\n",
       "       'Iris-virginica', 'Iris-versicolor', 'Iris-setosa', 'Iris-setosa',\n",
       "       'Iris-versicolor', 'Iris-versicolor', 'Iris-setosa',\n",
       "       'Iris-virginica', 'Iris-versicolor', 'Iris-versicolor',\n",
       "       'Iris-versicolor', 'Iris-setosa', 'Iris-virginica',\n",
       "       'Iris-virginica', 'Iris-versicolor', 'Iris-virginica',\n",
       "       'Iris-setosa', 'Iris-versicolor', 'Iris-setosa', 'Iris-virginica',\n",
       "       'Iris-versicolor', 'Iris-setosa', 'Iris-setosa', 'Iris-versicolor',\n",
       "       'Iris-setosa', 'Iris-virginica', 'Iris-virginica',\n",
       "       'Iris-versicolor', 'Iris-virginica', 'Iris-virginica',\n",
       "       'Iris-virginica'], dtype=object)"
      ]
     },
     "execution_count": 40,
     "metadata": {},
     "output_type": "execute_result"
    }
   ],
   "source": [
    "predictions"
   ]
  },
  {
   "cell_type": "code",
   "execution_count": 41,
   "id": "reverse-haiti",
   "metadata": {},
   "outputs": [
    {
     "data": {
      "text/plain": [
       "0.9555555555555556"
      ]
     },
     "execution_count": 41,
     "metadata": {},
     "output_type": "execute_result"
    }
   ],
   "source": [
    "accuracy_score(y_test, predictions)"
   ]
  },
  {
   "cell_type": "code",
   "execution_count": 58,
   "id": "collect-personality",
   "metadata": {},
   "outputs": [
    {
     "data": {
      "text/plain": [
       "pandas.core.series.Series"
      ]
     },
     "execution_count": 58,
     "metadata": {},
     "output_type": "execute_result"
    }
   ],
   "source": [
    "type(y_test)"
   ]
  },
  {
   "cell_type": "code",
   "execution_count": 43,
   "id": "proprietary-crazy",
   "metadata": {},
   "outputs": [],
   "source": [
    "from sklearn.metrics import confusion_matrix\n",
    "from sklearn.metrics import plot_confusion_matrix"
   ]
  },
  {
   "cell_type": "code",
   "execution_count": 44,
   "id": "relevant-mexican",
   "metadata": {},
   "outputs": [],
   "source": [
    "confusion_matrix= confusion_matrix(y_test,predictions,  labels=['Iris-virginica', 'Iris-versicolor', 'Iris-setosa'])\n"
   ]
  },
  {
   "cell_type": "code",
   "execution_count": 55,
   "id": "current-point",
   "metadata": {},
   "outputs": [
    {
     "ename": "TypeError",
     "evalue": "plot_confusion_matrix() missing 1 required positional argument: 'y_true'",
     "output_type": "error",
     "traceback": [
      "\u001b[0;31m--------------------------------------------------------------------------\u001b[0m",
      "\u001b[0;31mTypeError\u001b[0m                                Traceback (most recent call last)",
      "\u001b[0;32m<ipython-input-55-c1738237ba10>\u001b[0m in \u001b[0;36m<module>\u001b[0;34m\u001b[0m\n\u001b[0;32m----> 1\u001b[0;31m \u001b[0mplot_confusion_matrix\u001b[0m\u001b[0;34m(\u001b[0m\u001b[0my_test\u001b[0m\u001b[0;34m,\u001b[0m\u001b[0my_pred\u001b[0m\u001b[0;34m)\u001b[0m\u001b[0;34m\u001b[0m\u001b[0;34m\u001b[0m\u001b[0m\n\u001b[0m\u001b[1;32m      2\u001b[0m \u001b[0mplt\u001b[0m\u001b[0;34m.\u001b[0m\u001b[0mshow\u001b[0m\u001b[0;34m(\u001b[0m\u001b[0;34m)\u001b[0m\u001b[0;34m\u001b[0m\u001b[0;34m\u001b[0m\u001b[0m\n",
      "\u001b[0;32m~/opt/anaconda3/envs/excondables/lib/python3.8/site-packages/sklearn/utils/validation.py\u001b[0m in \u001b[0;36minner_f\u001b[0;34m(*args, **kwargs)\u001b[0m\n\u001b[1;32m     61\u001b[0m             \u001b[0mextra_args\u001b[0m \u001b[0;34m=\u001b[0m \u001b[0mlen\u001b[0m\u001b[0;34m(\u001b[0m\u001b[0margs\u001b[0m\u001b[0;34m)\u001b[0m \u001b[0;34m-\u001b[0m \u001b[0mlen\u001b[0m\u001b[0;34m(\u001b[0m\u001b[0mall_args\u001b[0m\u001b[0;34m)\u001b[0m\u001b[0;34m\u001b[0m\u001b[0;34m\u001b[0m\u001b[0m\n\u001b[1;32m     62\u001b[0m             \u001b[0;32mif\u001b[0m \u001b[0mextra_args\u001b[0m \u001b[0;34m<=\u001b[0m \u001b[0;36m0\u001b[0m\u001b[0;34m:\u001b[0m\u001b[0;34m\u001b[0m\u001b[0;34m\u001b[0m\u001b[0m\n\u001b[0;32m---> 63\u001b[0;31m                 \u001b[0;32mreturn\u001b[0m \u001b[0mf\u001b[0m\u001b[0;34m(\u001b[0m\u001b[0;34m*\u001b[0m\u001b[0margs\u001b[0m\u001b[0;34m,\u001b[0m \u001b[0;34m**\u001b[0m\u001b[0mkwargs\u001b[0m\u001b[0;34m)\u001b[0m\u001b[0;34m\u001b[0m\u001b[0;34m\u001b[0m\u001b[0m\n\u001b[0m\u001b[1;32m     64\u001b[0m \u001b[0;34m\u001b[0m\u001b[0m\n\u001b[1;32m     65\u001b[0m             \u001b[0;31m# extra_args > 0\u001b[0m\u001b[0;34m\u001b[0m\u001b[0;34m\u001b[0m\u001b[0;34m\u001b[0m\u001b[0m\n",
      "\u001b[0;31mTypeError\u001b[0m: plot_confusion_matrix() missing 1 required positional argument: 'y_true'"
     ]
    }
   ],
   "source": [
    "plot_confusion_matrix(y_test,y_pred)\n",
    "plt.show()"
   ]
  },
  {
   "cell_type": "code",
   "execution_count": null,
   "id": "literary-mustang",
   "metadata": {},
   "outputs": [],
   "source": []
  }
 ],
 "metadata": {
  "kernelspec": {
   "display_name": "Python 3",
   "language": "python",
   "name": "python3"
  },
  "language_info": {
   "codemirror_mode": {
    "name": "ipython",
    "version": 3
   },
   "file_extension": ".py",
   "mimetype": "text/x-python",
   "name": "python",
   "nbconvert_exporter": "python",
   "pygments_lexer": "ipython3",
   "version": "3.8.8"
  }
 },
 "nbformat": 4,
 "nbformat_minor": 5
}
